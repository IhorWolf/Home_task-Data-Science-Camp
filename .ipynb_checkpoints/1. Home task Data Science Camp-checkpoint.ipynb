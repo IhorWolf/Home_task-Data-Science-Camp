{
 "cells": [
  {
   "cell_type": "markdown",
   "id": "65bdce71-3bf2-48ab-a531-567c6cae08b0",
   "metadata": {},
   "source": [
    "## 1.Task"
   ]
  },
  {
   "cell_type": "code",
   "execution_count": 1,
   "id": "58a5ece1",
   "metadata": {},
   "outputs": [
    {
     "name": "stdout",
     "output_type": "stream",
     "text": [
      "3.138536\n"
     ]
    }
   ],
   "source": [
    "import random\n",
    "import numpy as np\n",
    "n = 10**6\n",
    "x1 = np.random.uniform(-1, 1, n)\n",
    "x2 = np.random.uniform(-1, 1, n)\n",
    "z = np.sqrt((x1**2)+(x2**2))\n",
    "print(4*sum(z<=1)/n)"
   ]
  },
  {
   "cell_type": "code",
   "execution_count": null,
   "id": "c8784ae0",
   "metadata": {},
   "outputs": [],
   "source": []
  }
 ],
 "metadata": {
  "kernelspec": {
   "display_name": "Python 3 (ipykernel)",
   "language": "python",
   "name": "python3"
  },
  "language_info": {
   "codemirror_mode": {
    "name": "ipython",
    "version": 3
   },
   "file_extension": ".py",
   "mimetype": "text/x-python",
   "name": "python",
   "nbconvert_exporter": "python",
   "pygments_lexer": "ipython3",
   "version": "3.9.12"
  }
 },
 "nbformat": 4,
 "nbformat_minor": 5
}
