{
 "cells": [
  {
   "cell_type": "markdown",
   "id": "65bdce71-3bf2-48ab-a531-567c6cae08b0",
   "metadata": {},
   "source": [
    "## 1.Task"
   ]
  },
  {
   "cell_type": "code",
   "execution_count": null,
   "id": "66e46ec9-9c9b-4204-b98b-43808ade58a1",
   "metadata": {},
   "outputs": [],
   "source": []
  }
 ],
 "metadata": {
  "kernelspec": {
   "display_name": "Python 3 (ipykernel)",
   "language": "python",
   "name": "python3"
  },
  "language_info": {
   "codemirror_mode": {
    "name": "ipython",
    "version": 3
   },
   "file_extension": ".py",
   "mimetype": "text/x-python",
   "name": "python",
   "nbconvert_exporter": "python",
   "pygments_lexer": "ipython3",
   "version": "3.9.12"
  }
 },
 "nbformat": 4,
 "nbformat_minor": 5
}
