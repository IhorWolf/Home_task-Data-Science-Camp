{
 "cells": [
  {
   "cell_type": "markdown",
   "id": "811c3846",
   "metadata": {},
   "source": [
    "## Home task 1"
   ]
  },
  {
   "cell_type": "code",
   "execution_count": 6,
   "id": "de0dd4da",
   "metadata": {
    "scrolled": true
   },
   "outputs": [
    {
     "name": "stdout",
     "output_type": "stream",
     "text": [
      "3.143524\n"
     ]
    }
   ],
   "source": [
    "import random\n",
    "import numpy as np\n",
    "n = 10**6\n",
    "x1 = np.random.uniform(-1, 1, n)\n",
    "x2 = np.random.uniform(-1, 1, n)\n",
    "z = np.sqrt((x1**2)+(x2**2))\n",
    "print(4*sum(z<=1)/n)"
   ]
  },
  {
   "cell_type": "markdown",
   "id": "7a8638dd-cb33-465b-873d-afe9174cc0cd",
   "metadata": {},
   "source": [
    "## Home task 2"
   ]
  },
  {
   "cell_type": "code",
   "execution_count": 29,
   "id": "9eb81819-8bbf-4b99-b6c5-e57a605ee2c6",
   "metadata": {},
   "outputs": [
    {
     "data": {
      "text/plain": [
       "'a, b = 4, 13'"
      ]
     },
     "execution_count": 29,
     "metadata": {},
     "output_type": "execute_result"
    }
   ],
   "source": [
    "def find_nums(low_limit, high_limit):\n",
    "\n",
    "    d1 = {}\n",
    "    for x in range(low_limit, high_limit): \n",
    "        for y in range(x, high_limit): \n",
    "            if x*y not in d1: \n",
    "                d1[x*y] = 1 \n",
    "            else:\n",
    "                d1[x*y] += 1\n",
    "  \n",
    "    d2 = {}  \n",
    "    for x in range(low_limit, high_limit): \n",
    "        for y in range(x, high_limit): \n",
    "            if  d1[x*y] == 1 :\n",
    "                d2[x+y] = 1\n",
    "\n",
    "    d3 = {} \n",
    "    for n in range(low_limit, high_limit):\n",
    "        if n not in d2:\n",
    "            for x in range(low_limit, n//2+1):\n",
    "                p = x * (n-x)\n",
    "                if p in d1 and d1[p] > 1:\n",
    "                    if p in d3:\n",
    "                        d3[p] += 1\n",
    "                    else:\n",
    "                        d3[p] = 1\n",
    "\n",
    "    d4 = {}  \n",
    "    for n in range(low_limit, high_limit):\n",
    "        if n not in d2:\n",
    "            for x in range(2, n//2+1):\n",
    "                if x*(n-x) in d3 and d3[x*(n-x)] == 1:\n",
    "                    if n in d4:\n",
    "                        d4[n] += 1\n",
    "                    else:\n",
    "                        d4[n] = 1\n",
    "                        \n",
    "    for n in d4: \n",
    "        if d4[n] == 1:\n",
    "            for x in range(2, n//2+1):\n",
    "                if x*(n-x) in d3 and d3[x*(n-x)] == 1:\n",
    "                    return f'a, b = %d, %d' % (x, n-x)\n",
    "                \n",
    "find_nums(2, 100)"
   ]
  },
  {
   "cell_type": "code",
   "execution_count": null,
   "id": "cbe46da1-b7c3-4329-af89-0f116cfd9af2",
   "metadata": {},
   "outputs": [],
   "source": []
  },
  {
   "cell_type": "code",
   "execution_count": null,
   "id": "17bb6b93-70b9-4cbd-a539-44b4ba38f39a",
   "metadata": {},
   "outputs": [],
   "source": []
  }
 ],
 "metadata": {
  "kernelspec": {
   "display_name": "Python 3 (ipykernel)",
   "language": "python",
   "name": "python3"
  },
  "language_info": {
   "codemirror_mode": {
    "name": "ipython",
    "version": 3
   },
   "file_extension": ".py",
   "mimetype": "text/x-python",
   "name": "python",
   "nbconvert_exporter": "python",
   "pygments_lexer": "ipython3",
   "version": "3.9.12"
  }
 },
 "nbformat": 4,
 "nbformat_minor": 5
}
