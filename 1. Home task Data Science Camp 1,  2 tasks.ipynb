{
 "cells": [
  {
   "cell_type": "markdown",
   "id": "811c3846",
   "metadata": {},
   "source": [
    "## Home task 1"
   ]
  },
  {
   "cell_type": "code",
   "execution_count": 6,
   "id": "de0dd4da",
   "metadata": {
    "scrolled": true
   },
   "outputs": [
    {
     "name": "stdout",
     "output_type": "stream",
     "text": [
      "3.143524\n"
     ]
    }
   ],
   "source": [
    "import random\n",
    "import numpy as np\n",
    "n = 10**6\n",
    "x1 = np.random.uniform(-1, 1, n)\n",
    "x2 = np.random.uniform(-1, 1, n)\n",
    "z = np.sqrt((x1**2)+(x2**2))\n",
    "print(4*sum(z<=1)/n)"
   ]
  },
  {
   "cell_type": "code",
   "execution_count": null,
   "id": "9eb81819-8bbf-4b99-b6c5-e57a605ee2c6",
   "metadata": {},
   "outputs": [],
   "source": []
  },
  {
   "cell_type": "code",
   "execution_count": null,
   "id": "cbe46da1-b7c3-4329-af89-0f116cfd9af2",
   "metadata": {},
   "outputs": [],
   "source": []
  },
  {
   "cell_type": "code",
   "execution_count": null,
   "id": "17bb6b93-70b9-4cbd-a539-44b4ba38f39a",
   "metadata": {},
   "outputs": [],
   "source": []
  }
 ],
 "metadata": {
  "kernelspec": {
   "display_name": "Python 3 (ipykernel)",
   "language": "python",
   "name": "python3"
  },
  "language_info": {
   "codemirror_mode": {
    "name": "ipython",
    "version": 3
   },
   "file_extension": ".py",
   "mimetype": "text/x-python",
   "name": "python",
   "nbconvert_exporter": "python",
   "pygments_lexer": "ipython3",
   "version": "3.9.12"
  }
 },
 "nbformat": 4,
 "nbformat_minor": 5
}
